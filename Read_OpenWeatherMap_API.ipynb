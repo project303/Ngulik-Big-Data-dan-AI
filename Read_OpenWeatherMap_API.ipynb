{
  "nbformat": 4,
  "nbformat_minor": 0,
  "metadata": {
    "colab": {
      "name": "Read_OpenWeatherMap_API",
      "provenance": []
    },
    "kernelspec": {
      "name": "python3",
      "display_name": "Python 3"
    },
    "language_info": {
      "name": "python"
    }
  },
  "cells": [
    {
      "cell_type": "code",
      "execution_count": 1,
      "metadata": {
        "colab": {
          "base_uri": "https://localhost:8080/"
        },
        "id": "PAllVsYne4Lh",
        "outputId": "7da85e0d-466c-47fc-8105-3be95b2526d0"
      },
      "outputs": [
        {
          "output_type": "stream",
          "name": "stdout",
          "text": [
            "Wed Apr 27 14:45:12 UTC 2022\n"
          ]
        }
      ],
      "source": [
        "!date"
      ]
    },
    {
      "cell_type": "markdown",
      "source": [
        "## Read Open Weather Map API"
      ],
      "metadata": {
        "id": "Rge8vqMMyeUx"
      }
    },
    {
      "cell_type": "code",
      "source": [
        "import requests\n",
        "\n",
        "from pprint import pprint\n",
        "import pandas as pd\n",
        "import datetime\n",
        "from time import sleep\n",
        "import pytz"
      ],
      "metadata": {
        "id": "39p4UN20e5Lv"
      },
      "execution_count": 55,
      "outputs": []
    },
    {
      "cell_type": "code",
      "source": [
        "headers = {'User-Agent': 'Mozilla/5.0 (Windows NT 10.0; WOW64; rv:77.0) Gecko/20100101 Firefox/77.0'}"
      ],
      "metadata": {
        "id": "Xd8uRIE3fCAP"
      },
      "execution_count": 56,
      "outputs": []
    },
    {
      "cell_type": "code",
      "source": [
        "data_res = []\n",
        "\n",
        "url = 'https://api.openweathermap.org/data/2.5/onecall?lat=-6.400526222&lon=106.8318436&exclude=hourly,daily&appid=188c9968ee8328776735c7bd5f3b6e25'\n",
        "\n",
        "print(url)"
      ],
      "metadata": {
        "colab": {
          "base_uri": "https://localhost:8080/"
        },
        "id": "ODyQLGFTfKxX",
        "outputId": "4704ff4c-1dfd-41e0-e651-6a1091ac407c"
      },
      "execution_count": 57,
      "outputs": [
        {
          "output_type": "stream",
          "name": "stdout",
          "text": [
            "https://api.openweathermap.org/data/2.5/onecall?lat=-6.400526222&lon=106.8318436&exclude=hourly,daily&appid=188c9968ee8328776735c7bd5f3b6e25\n"
          ]
        }
      ]
    },
    {
      "cell_type": "code",
      "source": [
        "res = requests.get(url)\n",
        "data = res.json()"
      ],
      "metadata": {
        "id": "zin0WiL6fjHf"
      },
      "execution_count": 58,
      "outputs": []
    },
    {
      "cell_type": "code",
      "source": [
        "data"
      ],
      "metadata": {
        "colab": {
          "base_uri": "https://localhost:8080/"
        },
        "id": "UkjBlW9-f7Q6",
        "outputId": "5b6cfe30-dddf-4cda-def8-fd349decbddf"
      },
      "execution_count": 59,
      "outputs": [
        {
          "output_type": "execute_result",
          "data": {
            "text/plain": [
              "{'current': {'clouds': 100,\n",
              "  'dew_point': 293.99,\n",
              "  'dt': 1651076161,\n",
              "  'feels_like': 297.29,\n",
              "  'humidity': 85,\n",
              "  'pressure': 1009,\n",
              "  'rain': {'1h': 2.05},\n",
              "  'sunrise': 1651013584,\n",
              "  'sunset': 1651056444,\n",
              "  'temp': 296.66,\n",
              "  'uvi': 0,\n",
              "  'visibility': 10000,\n",
              "  'weather': [{'description': 'moderate rain',\n",
              "    'icon': '10n',\n",
              "    'id': 501,\n",
              "    'main': 'Rain'}],\n",
              "  'wind_deg': 252,\n",
              "  'wind_gust': 1.32,\n",
              "  'wind_speed': 1.16},\n",
              " 'lat': -6.4005,\n",
              " 'lon': 106.8318,\n",
              " 'minutely': [{'dt': 1651076220, 'precipitation': 2.0505},\n",
              "  {'dt': 1651076280, 'precipitation': 2.0505},\n",
              "  {'dt': 1651076340, 'precipitation': 2.0505},\n",
              "  {'dt': 1651076400, 'precipitation': 2.0505},\n",
              "  {'dt': 1651076460, 'precipitation': 2.0505},\n",
              "  {'dt': 1651076520, 'precipitation': 2.0505},\n",
              "  {'dt': 1651076580, 'precipitation': 2.0505},\n",
              "  {'dt': 1651076640, 'precipitation': 2.0505},\n",
              "  {'dt': 1651076700, 'precipitation': 2.0505},\n",
              "  {'dt': 1651076760, 'precipitation': 2.0505},\n",
              "  {'dt': 1651076820, 'precipitation': 2.0505},\n",
              "  {'dt': 1651076880, 'precipitation': 2.0505},\n",
              "  {'dt': 1651076940, 'precipitation': 2.0505},\n",
              "  {'dt': 1651077000, 'precipitation': 2.0505},\n",
              "  {'dt': 1651077060, 'precipitation': 2.114},\n",
              "  {'dt': 1651077120, 'precipitation': 2.1774},\n",
              "  {'dt': 1651077180, 'precipitation': 2.2409},\n",
              "  {'dt': 1651077240, 'precipitation': 2.3044},\n",
              "  {'dt': 1651077300, 'precipitation': 2.3679},\n",
              "  {'dt': 1651077360, 'precipitation': 2.4412},\n",
              "  {'dt': 1651077420, 'precipitation': 2.5145},\n",
              "  {'dt': 1651077480, 'precipitation': 2.5878},\n",
              "  {'dt': 1651077540, 'precipitation': 2.6611},\n",
              "  {'dt': 1651077600, 'precipitation': 2.7344},\n",
              "  {'dt': 1651077660, 'precipitation': 2.819},\n",
              "  {'dt': 1651077720, 'precipitation': 2.9037},\n",
              "  {'dt': 1651077780, 'precipitation': 2.9883},\n",
              "  {'dt': 1651077840, 'precipitation': 3.0729},\n",
              "  {'dt': 1651077900, 'precipitation': 3.1576},\n",
              "  {'dt': 1651077960, 'precipitation': 3.1576},\n",
              "  {'dt': 1651078020, 'precipitation': 3.1576},\n",
              "  {'dt': 1651078080, 'precipitation': 3.1576},\n",
              "  {'dt': 1651078140, 'precipitation': 3.1576},\n",
              "  {'dt': 1651078200, 'precipitation': 3.1576},\n",
              "  {'dt': 1651078260, 'precipitation': 3.2553},\n",
              "  {'dt': 1651078320, 'precipitation': 3.3531},\n",
              "  {'dt': 1651078380, 'precipitation': 3.4508},\n",
              "  {'dt': 1651078440, 'precipitation': 3.5486},\n",
              "  {'dt': 1651078500, 'precipitation': 3.6463},\n",
              "  {'dt': 1651078560, 'precipitation': 3.7592},\n",
              "  {'dt': 1651078620, 'precipitation': 3.8721},\n",
              "  {'dt': 1651078680, 'precipitation': 3.985},\n",
              "  {'dt': 1651078740, 'precipitation': 4.0978},\n",
              "  {'dt': 1651078800, 'precipitation': 4.2107},\n",
              "  {'dt': 1651078860, 'precipitation': 4.2107},\n",
              "  {'dt': 1651078920, 'precipitation': 4.2107},\n",
              "  {'dt': 1651078980, 'precipitation': 4.2107},\n",
              "  {'dt': 1651079040, 'precipitation': 4.2107},\n",
              "  {'dt': 1651079100, 'precipitation': 4.2107},\n",
              "  {'dt': 1651079160, 'precipitation': 4.3411},\n",
              "  {'dt': 1651079220, 'precipitation': 4.4714},\n",
              "  {'dt': 1651079280, 'precipitation': 4.6018},\n",
              "  {'dt': 1651079340, 'precipitation': 4.7321},\n",
              "  {'dt': 1651079400, 'precipitation': 4.8625},\n",
              "  {'dt': 1651079460, 'precipitation': 5.013},\n",
              "  {'dt': 1651079520, 'precipitation': 5.1635},\n",
              "  {'dt': 1651079580, 'precipitation': 5.314},\n",
              "  {'dt': 1651079640, 'precipitation': 5.4646},\n",
              "  {'dt': 1651079700, 'precipitation': 5.6151},\n",
              "  {'dt': 1651079760, 'precipitation': 5.6151},\n",
              "  {'dt': 1651079820, 'precipitation': 5.6151}],\n",
              " 'timezone': 'Asia/Jakarta',\n",
              " 'timezone_offset': 25200}"
            ]
          },
          "metadata": {},
          "execution_count": 59
        }
      ]
    },
    {
      "cell_type": "code",
      "source": [
        "sunrise = data['current']['sunrise']\n",
        "sunrise"
      ],
      "metadata": {
        "colab": {
          "base_uri": "https://localhost:8080/"
        },
        "id": "5hlZEjLFf_x2",
        "outputId": "a194d555-04d9-42fe-ff48-ad890df5cfa1"
      },
      "execution_count": 60,
      "outputs": [
        {
          "output_type": "execute_result",
          "data": {
            "text/plain": [
              "1651013584"
            ]
          },
          "metadata": {},
          "execution_count": 60
        }
      ]
    },
    {
      "cell_type": "code",
      "source": [
        "#timestamp = 1651070974\n",
        "#value = datetime.datetime.fromtimestamp(timestamp)\n",
        "#print(f\"{value:%Y-%m-%d %H:%M:%S}\")"
      ],
      "metadata": {
        "id": "Ycw7GCiugYwB"
      },
      "execution_count": null,
      "outputs": []
    },
    {
      "cell_type": "markdown",
      "source": [
        "Convert to Jakarta time zone"
      ],
      "metadata": {
        "id": "4VS2Y4eDoX60"
      }
    },
    {
      "cell_type": "code",
      "source": [
        "# tzInfo = pytz.timezone('Asia/Jakarta')\n",
        "# timestamp = 1651074600\n",
        "# local_dt = datetime.datetime.fromtimestamp(timestamp, tz=tzInfo)\n",
        "# print(f\"{local_dt:%Y-%m-%d %H:%M:%S}\")"
      ],
      "metadata": {
        "id": "HTyexJrQoOJr"
      },
      "execution_count": null,
      "outputs": []
    },
    {
      "cell_type": "markdown",
      "source": [
        "## Get JSON Data to Pandas"
      ],
      "metadata": {
        "id": "RuNHT_f8pk01"
      }
    },
    {
      "cell_type": "code",
      "source": [
        "current_dt = data['current']['dt']\n",
        "city = 'Depok'\n",
        "latitude = data['lat']\n",
        "longitude = data['lon']\n",
        "sunrise = data['current']['sunrise']\n",
        "sunset = data['current']['sunset']\n",
        "temp = data['current']['temp']\n",
        "feels_like = data['current']['feels_like']\n",
        "pressure = data['current']['pressure']\n",
        "humidity = data['current']['humidity']\n",
        "dew_point = data['current']['dew_point']\n",
        "uvi = data['current']['uvi']\n",
        "clouds = data['current']['clouds']\n",
        "visibility = data['current']['visibility']\n",
        "wind_speed = data['current']['wind_speed']\n",
        "wind_deg = data['current']['wind_deg']\n",
        "\n",
        "description = data ['current']['weather'][0]['description']\n",
        "data_res.append([current_dt, city, latitude, longitude, sunrise, sunset, temp, feels_like, pressure, humidity, dew_point, uvi, clouds, visibility, wind_speed, wind_deg, description])"
      ],
      "metadata": {
        "id": "XUQkjIHJo7S5"
      },
      "execution_count": 61,
      "outputs": []
    },
    {
      "cell_type": "code",
      "source": [
        "df_weather = pd.DataFrame(data_res, \\\n",
        "                  columns=['current_dt', 'city', 'latitude', 'longitude', 'sunrise', 'sunset', \n",
        "                           'temp', 'feels_like', 'pressure', 'humidity', 'dew_point', 'uvi', 'clouds', \n",
        "                           'visibility', 'wind_speed', 'wind_deg', 'description']\n",
        "                  )"
      ],
      "metadata": {
        "id": "LTZl1utcy8KN"
      },
      "execution_count": 62,
      "outputs": []
    },
    {
      "cell_type": "code",
      "source": [
        "df_weather.head()"
      ],
      "metadata": {
        "colab": {
          "base_uri": "https://localhost:8080/",
          "height": 81
        },
        "id": "vZ68Sv--zU9V",
        "outputId": "6c28ef9a-38c1-4969-dcaf-e3842e6a64ec"
      },
      "execution_count": 63,
      "outputs": [
        {
          "output_type": "execute_result",
          "data": {
            "text/plain": [
              "   current_dt   city  latitude  longitude     sunrise      sunset    temp  \\\n",
              "0  1651076161  Depok   -6.4005   106.8318  1651013584  1651056444  296.66   \n",
              "\n",
              "   feels_like  pressure  humidity  dew_point  uvi  clouds  visibility  \\\n",
              "0      297.29      1009        85     293.99    0     100       10000   \n",
              "\n",
              "   wind_speed  wind_deg    description  \n",
              "0        1.16       252  moderate rain  "
            ],
            "text/html": [
              "\n",
              "  <div id=\"df-056117e1-4f47-41a7-905a-78cbc9ad0893\">\n",
              "    <div class=\"colab-df-container\">\n",
              "      <div>\n",
              "<style scoped>\n",
              "    .dataframe tbody tr th:only-of-type {\n",
              "        vertical-align: middle;\n",
              "    }\n",
              "\n",
              "    .dataframe tbody tr th {\n",
              "        vertical-align: top;\n",
              "    }\n",
              "\n",
              "    .dataframe thead th {\n",
              "        text-align: right;\n",
              "    }\n",
              "</style>\n",
              "<table border=\"1\" class=\"dataframe\">\n",
              "  <thead>\n",
              "    <tr style=\"text-align: right;\">\n",
              "      <th></th>\n",
              "      <th>current_dt</th>\n",
              "      <th>city</th>\n",
              "      <th>latitude</th>\n",
              "      <th>longitude</th>\n",
              "      <th>sunrise</th>\n",
              "      <th>sunset</th>\n",
              "      <th>temp</th>\n",
              "      <th>feels_like</th>\n",
              "      <th>pressure</th>\n",
              "      <th>humidity</th>\n",
              "      <th>dew_point</th>\n",
              "      <th>uvi</th>\n",
              "      <th>clouds</th>\n",
              "      <th>visibility</th>\n",
              "      <th>wind_speed</th>\n",
              "      <th>wind_deg</th>\n",
              "      <th>description</th>\n",
              "    </tr>\n",
              "  </thead>\n",
              "  <tbody>\n",
              "    <tr>\n",
              "      <th>0</th>\n",
              "      <td>1651076161</td>\n",
              "      <td>Depok</td>\n",
              "      <td>-6.4005</td>\n",
              "      <td>106.8318</td>\n",
              "      <td>1651013584</td>\n",
              "      <td>1651056444</td>\n",
              "      <td>296.66</td>\n",
              "      <td>297.29</td>\n",
              "      <td>1009</td>\n",
              "      <td>85</td>\n",
              "      <td>293.99</td>\n",
              "      <td>0</td>\n",
              "      <td>100</td>\n",
              "      <td>10000</td>\n",
              "      <td>1.16</td>\n",
              "      <td>252</td>\n",
              "      <td>moderate rain</td>\n",
              "    </tr>\n",
              "  </tbody>\n",
              "</table>\n",
              "</div>\n",
              "      <button class=\"colab-df-convert\" onclick=\"convertToInteractive('df-056117e1-4f47-41a7-905a-78cbc9ad0893')\"\n",
              "              title=\"Convert this dataframe to an interactive table.\"\n",
              "              style=\"display:none;\">\n",
              "        \n",
              "  <svg xmlns=\"http://www.w3.org/2000/svg\" height=\"24px\"viewBox=\"0 0 24 24\"\n",
              "       width=\"24px\">\n",
              "    <path d=\"M0 0h24v24H0V0z\" fill=\"none\"/>\n",
              "    <path d=\"M18.56 5.44l.94 2.06.94-2.06 2.06-.94-2.06-.94-.94-2.06-.94 2.06-2.06.94zm-11 1L8.5 8.5l.94-2.06 2.06-.94-2.06-.94L8.5 2.5l-.94 2.06-2.06.94zm10 10l.94 2.06.94-2.06 2.06-.94-2.06-.94-.94-2.06-.94 2.06-2.06.94z\"/><path d=\"M17.41 7.96l-1.37-1.37c-.4-.4-.92-.59-1.43-.59-.52 0-1.04.2-1.43.59L10.3 9.45l-7.72 7.72c-.78.78-.78 2.05 0 2.83L4 21.41c.39.39.9.59 1.41.59.51 0 1.02-.2 1.41-.59l7.78-7.78 2.81-2.81c.8-.78.8-2.07 0-2.86zM5.41 20L4 18.59l7.72-7.72 1.47 1.35L5.41 20z\"/>\n",
              "  </svg>\n",
              "      </button>\n",
              "      \n",
              "  <style>\n",
              "    .colab-df-container {\n",
              "      display:flex;\n",
              "      flex-wrap:wrap;\n",
              "      gap: 12px;\n",
              "    }\n",
              "\n",
              "    .colab-df-convert {\n",
              "      background-color: #E8F0FE;\n",
              "      border: none;\n",
              "      border-radius: 50%;\n",
              "      cursor: pointer;\n",
              "      display: none;\n",
              "      fill: #1967D2;\n",
              "      height: 32px;\n",
              "      padding: 0 0 0 0;\n",
              "      width: 32px;\n",
              "    }\n",
              "\n",
              "    .colab-df-convert:hover {\n",
              "      background-color: #E2EBFA;\n",
              "      box-shadow: 0px 1px 2px rgba(60, 64, 67, 0.3), 0px 1px 3px 1px rgba(60, 64, 67, 0.15);\n",
              "      fill: #174EA6;\n",
              "    }\n",
              "\n",
              "    [theme=dark] .colab-df-convert {\n",
              "      background-color: #3B4455;\n",
              "      fill: #D2E3FC;\n",
              "    }\n",
              "\n",
              "    [theme=dark] .colab-df-convert:hover {\n",
              "      background-color: #434B5C;\n",
              "      box-shadow: 0px 1px 3px 1px rgba(0, 0, 0, 0.15);\n",
              "      filter: drop-shadow(0px 1px 2px rgba(0, 0, 0, 0.3));\n",
              "      fill: #FFFFFF;\n",
              "    }\n",
              "  </style>\n",
              "\n",
              "      <script>\n",
              "        const buttonEl =\n",
              "          document.querySelector('#df-056117e1-4f47-41a7-905a-78cbc9ad0893 button.colab-df-convert');\n",
              "        buttonEl.style.display =\n",
              "          google.colab.kernel.accessAllowed ? 'block' : 'none';\n",
              "\n",
              "        async function convertToInteractive(key) {\n",
              "          const element = document.querySelector('#df-056117e1-4f47-41a7-905a-78cbc9ad0893');\n",
              "          const dataTable =\n",
              "            await google.colab.kernel.invokeFunction('convertToInteractive',\n",
              "                                                     [key], {});\n",
              "          if (!dataTable) return;\n",
              "\n",
              "          const docLinkHtml = 'Like what you see? Visit the ' +\n",
              "            '<a target=\"_blank\" href=https://colab.research.google.com/notebooks/data_table.ipynb>data table notebook</a>'\n",
              "            + ' to learn more about interactive tables.';\n",
              "          element.innerHTML = '';\n",
              "          dataTable['output_type'] = 'display_data';\n",
              "          await google.colab.output.renderOutput(dataTable, element);\n",
              "          const docLink = document.createElement('div');\n",
              "          docLink.innerHTML = docLinkHtml;\n",
              "          element.appendChild(docLink);\n",
              "        }\n",
              "      </script>\n",
              "    </div>\n",
              "  </div>\n",
              "  "
            ]
          },
          "metadata": {},
          "execution_count": 63
        }
      ]
    },
    {
      "cell_type": "code",
      "source": [
        "df_weather['time_stamp'] = pd.to_datetime(df_weather['current_dt'], unit='s')\n",
        "df_weather['time_stamp'] = df_weather['time_stamp'].dt.tz_localize('UTC')\n",
        "df_weather['time_stamp'] = df_weather['time_stamp'].dt.tz_convert('Asia/Jakarta')"
      ],
      "metadata": {
        "id": "i3yWxh8VzfRW"
      },
      "execution_count": 64,
      "outputs": []
    },
    {
      "cell_type": "code",
      "source": [
        "df_weather.head()"
      ],
      "metadata": {
        "colab": {
          "base_uri": "https://localhost:8080/",
          "height": 162
        },
        "id": "GFYVWfwe0ona",
        "outputId": "f10cd1e6-2e48-4e4e-eb25-68d5eaa8305e"
      },
      "execution_count": 65,
      "outputs": [
        {
          "output_type": "execute_result",
          "data": {
            "text/plain": [
              "   current_dt   city  latitude  longitude     sunrise      sunset    temp  \\\n",
              "0  1651076161  Depok   -6.4005   106.8318  1651013584  1651056444  296.66   \n",
              "\n",
              "   feels_like  pressure  humidity  dew_point  uvi  clouds  visibility  \\\n",
              "0      297.29      1009        85     293.99    0     100       10000   \n",
              "\n",
              "   wind_speed  wind_deg    description                time_stamp  \n",
              "0        1.16       252  moderate rain 2022-04-27 23:16:01+07:00  "
            ],
            "text/html": [
              "\n",
              "  <div id=\"df-6ea231f3-13e7-4656-911f-be1156456c9d\">\n",
              "    <div class=\"colab-df-container\">\n",
              "      <div>\n",
              "<style scoped>\n",
              "    .dataframe tbody tr th:only-of-type {\n",
              "        vertical-align: middle;\n",
              "    }\n",
              "\n",
              "    .dataframe tbody tr th {\n",
              "        vertical-align: top;\n",
              "    }\n",
              "\n",
              "    .dataframe thead th {\n",
              "        text-align: right;\n",
              "    }\n",
              "</style>\n",
              "<table border=\"1\" class=\"dataframe\">\n",
              "  <thead>\n",
              "    <tr style=\"text-align: right;\">\n",
              "      <th></th>\n",
              "      <th>current_dt</th>\n",
              "      <th>city</th>\n",
              "      <th>latitude</th>\n",
              "      <th>longitude</th>\n",
              "      <th>sunrise</th>\n",
              "      <th>sunset</th>\n",
              "      <th>temp</th>\n",
              "      <th>feels_like</th>\n",
              "      <th>pressure</th>\n",
              "      <th>humidity</th>\n",
              "      <th>dew_point</th>\n",
              "      <th>uvi</th>\n",
              "      <th>clouds</th>\n",
              "      <th>visibility</th>\n",
              "      <th>wind_speed</th>\n",
              "      <th>wind_deg</th>\n",
              "      <th>description</th>\n",
              "      <th>time_stamp</th>\n",
              "    </tr>\n",
              "  </thead>\n",
              "  <tbody>\n",
              "    <tr>\n",
              "      <th>0</th>\n",
              "      <td>1651076161</td>\n",
              "      <td>Depok</td>\n",
              "      <td>-6.4005</td>\n",
              "      <td>106.8318</td>\n",
              "      <td>1651013584</td>\n",
              "      <td>1651056444</td>\n",
              "      <td>296.66</td>\n",
              "      <td>297.29</td>\n",
              "      <td>1009</td>\n",
              "      <td>85</td>\n",
              "      <td>293.99</td>\n",
              "      <td>0</td>\n",
              "      <td>100</td>\n",
              "      <td>10000</td>\n",
              "      <td>1.16</td>\n",
              "      <td>252</td>\n",
              "      <td>moderate rain</td>\n",
              "      <td>2022-04-27 23:16:01+07:00</td>\n",
              "    </tr>\n",
              "  </tbody>\n",
              "</table>\n",
              "</div>\n",
              "      <button class=\"colab-df-convert\" onclick=\"convertToInteractive('df-6ea231f3-13e7-4656-911f-be1156456c9d')\"\n",
              "              title=\"Convert this dataframe to an interactive table.\"\n",
              "              style=\"display:none;\">\n",
              "        \n",
              "  <svg xmlns=\"http://www.w3.org/2000/svg\" height=\"24px\"viewBox=\"0 0 24 24\"\n",
              "       width=\"24px\">\n",
              "    <path d=\"M0 0h24v24H0V0z\" fill=\"none\"/>\n",
              "    <path d=\"M18.56 5.44l.94 2.06.94-2.06 2.06-.94-2.06-.94-.94-2.06-.94 2.06-2.06.94zm-11 1L8.5 8.5l.94-2.06 2.06-.94-2.06-.94L8.5 2.5l-.94 2.06-2.06.94zm10 10l.94 2.06.94-2.06 2.06-.94-2.06-.94-.94-2.06-.94 2.06-2.06.94z\"/><path d=\"M17.41 7.96l-1.37-1.37c-.4-.4-.92-.59-1.43-.59-.52 0-1.04.2-1.43.59L10.3 9.45l-7.72 7.72c-.78.78-.78 2.05 0 2.83L4 21.41c.39.39.9.59 1.41.59.51 0 1.02-.2 1.41-.59l7.78-7.78 2.81-2.81c.8-.78.8-2.07 0-2.86zM5.41 20L4 18.59l7.72-7.72 1.47 1.35L5.41 20z\"/>\n",
              "  </svg>\n",
              "      </button>\n",
              "      \n",
              "  <style>\n",
              "    .colab-df-container {\n",
              "      display:flex;\n",
              "      flex-wrap:wrap;\n",
              "      gap: 12px;\n",
              "    }\n",
              "\n",
              "    .colab-df-convert {\n",
              "      background-color: #E8F0FE;\n",
              "      border: none;\n",
              "      border-radius: 50%;\n",
              "      cursor: pointer;\n",
              "      display: none;\n",
              "      fill: #1967D2;\n",
              "      height: 32px;\n",
              "      padding: 0 0 0 0;\n",
              "      width: 32px;\n",
              "    }\n",
              "\n",
              "    .colab-df-convert:hover {\n",
              "      background-color: #E2EBFA;\n",
              "      box-shadow: 0px 1px 2px rgba(60, 64, 67, 0.3), 0px 1px 3px 1px rgba(60, 64, 67, 0.15);\n",
              "      fill: #174EA6;\n",
              "    }\n",
              "\n",
              "    [theme=dark] .colab-df-convert {\n",
              "      background-color: #3B4455;\n",
              "      fill: #D2E3FC;\n",
              "    }\n",
              "\n",
              "    [theme=dark] .colab-df-convert:hover {\n",
              "      background-color: #434B5C;\n",
              "      box-shadow: 0px 1px 3px 1px rgba(0, 0, 0, 0.15);\n",
              "      filter: drop-shadow(0px 1px 2px rgba(0, 0, 0, 0.3));\n",
              "      fill: #FFFFFF;\n",
              "    }\n",
              "  </style>\n",
              "\n",
              "      <script>\n",
              "        const buttonEl =\n",
              "          document.querySelector('#df-6ea231f3-13e7-4656-911f-be1156456c9d button.colab-df-convert');\n",
              "        buttonEl.style.display =\n",
              "          google.colab.kernel.accessAllowed ? 'block' : 'none';\n",
              "\n",
              "        async function convertToInteractive(key) {\n",
              "          const element = document.querySelector('#df-6ea231f3-13e7-4656-911f-be1156456c9d');\n",
              "          const dataTable =\n",
              "            await google.colab.kernel.invokeFunction('convertToInteractive',\n",
              "                                                     [key], {});\n",
              "          if (!dataTable) return;\n",
              "\n",
              "          const docLinkHtml = 'Like what you see? Visit the ' +\n",
              "            '<a target=\"_blank\" href=https://colab.research.google.com/notebooks/data_table.ipynb>data table notebook</a>'\n",
              "            + ' to learn more about interactive tables.';\n",
              "          element.innerHTML = '';\n",
              "          dataTable['output_type'] = 'display_data';\n",
              "          await google.colab.output.renderOutput(dataTable, element);\n",
              "          const docLink = document.createElement('div');\n",
              "          docLink.innerHTML = docLinkHtml;\n",
              "          element.appendChild(docLink);\n",
              "        }\n",
              "      </script>\n",
              "    </div>\n",
              "  </div>\n",
              "  "
            ]
          },
          "metadata": {},
          "execution_count": 65
        }
      ]
    },
    {
      "cell_type": "markdown",
      "source": [
        "Save dataframe to csv file"
      ],
      "metadata": {
        "id": "xjPTQmeS1T01"
      }
    },
    {
      "cell_type": "code",
      "source": [
        "df_weather.to_csv('weather.csv', mode='a', header=False, index=False)"
      ],
      "metadata": {
        "id": "ac6YD_Ur1He1"
      },
      "execution_count": 76,
      "outputs": []
    },
    {
      "cell_type": "markdown",
      "source": [
        "## Get Precipitation"
      ],
      "metadata": {
        "id": "nl7mu5eUyOgt"
      }
    },
    {
      "cell_type": "code",
      "source": [
        "precipitation = data['minutely']"
      ],
      "metadata": {
        "id": "FAQxgYmMsMAC"
      },
      "execution_count": 67,
      "outputs": []
    },
    {
      "cell_type": "code",
      "source": [
        "type(precipitation)"
      ],
      "metadata": {
        "colab": {
          "base_uri": "https://localhost:8080/"
        },
        "id": "iEYxXed-sR60",
        "outputId": "495d6d42-919b-4ebf-a2d0-4924fb05dab2"
      },
      "execution_count": 68,
      "outputs": [
        {
          "output_type": "execute_result",
          "data": {
            "text/plain": [
              "list"
            ]
          },
          "metadata": {},
          "execution_count": 68
        }
      ]
    },
    {
      "cell_type": "code",
      "source": [
        "precipitation[0]"
      ],
      "metadata": {
        "colab": {
          "base_uri": "https://localhost:8080/"
        },
        "id": "BodkafILsZJ0",
        "outputId": "ff7fc8e5-95df-4235-da09-bcdfc66c9846"
      },
      "execution_count": 69,
      "outputs": [
        {
          "output_type": "execute_result",
          "data": {
            "text/plain": [
              "{'dt': 1651076220, 'precipitation': 2.0505}"
            ]
          },
          "metadata": {},
          "execution_count": 69
        }
      ]
    },
    {
      "cell_type": "code",
      "source": [
        "df_precipitation = pd.DataFrame(precipitation)"
      ],
      "metadata": {
        "id": "uwwWCMVwspLm"
      },
      "execution_count": 72,
      "outputs": []
    },
    {
      "cell_type": "code",
      "source": [
        "df_precipitation.head()"
      ],
      "metadata": {
        "colab": {
          "base_uri": "https://localhost:8080/",
          "height": 206
        },
        "id": "tIWE6PHws9nD",
        "outputId": "9ea04065-d8ad-44ab-da62-c4a2190a3bb1"
      },
      "execution_count": 73,
      "outputs": [
        {
          "output_type": "execute_result",
          "data": {
            "text/plain": [
              "           dt  precipitation\n",
              "0  1651076220         2.0505\n",
              "1  1651076280         2.0505\n",
              "2  1651076340         2.0505\n",
              "3  1651076400         2.0505\n",
              "4  1651076460         2.0505"
            ],
            "text/html": [
              "\n",
              "  <div id=\"df-ae1645ad-903b-471d-82fd-a5578e39264c\">\n",
              "    <div class=\"colab-df-container\">\n",
              "      <div>\n",
              "<style scoped>\n",
              "    .dataframe tbody tr th:only-of-type {\n",
              "        vertical-align: middle;\n",
              "    }\n",
              "\n",
              "    .dataframe tbody tr th {\n",
              "        vertical-align: top;\n",
              "    }\n",
              "\n",
              "    .dataframe thead th {\n",
              "        text-align: right;\n",
              "    }\n",
              "</style>\n",
              "<table border=\"1\" class=\"dataframe\">\n",
              "  <thead>\n",
              "    <tr style=\"text-align: right;\">\n",
              "      <th></th>\n",
              "      <th>dt</th>\n",
              "      <th>precipitation</th>\n",
              "    </tr>\n",
              "  </thead>\n",
              "  <tbody>\n",
              "    <tr>\n",
              "      <th>0</th>\n",
              "      <td>1651076220</td>\n",
              "      <td>2.0505</td>\n",
              "    </tr>\n",
              "    <tr>\n",
              "      <th>1</th>\n",
              "      <td>1651076280</td>\n",
              "      <td>2.0505</td>\n",
              "    </tr>\n",
              "    <tr>\n",
              "      <th>2</th>\n",
              "      <td>1651076340</td>\n",
              "      <td>2.0505</td>\n",
              "    </tr>\n",
              "    <tr>\n",
              "      <th>3</th>\n",
              "      <td>1651076400</td>\n",
              "      <td>2.0505</td>\n",
              "    </tr>\n",
              "    <tr>\n",
              "      <th>4</th>\n",
              "      <td>1651076460</td>\n",
              "      <td>2.0505</td>\n",
              "    </tr>\n",
              "  </tbody>\n",
              "</table>\n",
              "</div>\n",
              "      <button class=\"colab-df-convert\" onclick=\"convertToInteractive('df-ae1645ad-903b-471d-82fd-a5578e39264c')\"\n",
              "              title=\"Convert this dataframe to an interactive table.\"\n",
              "              style=\"display:none;\">\n",
              "        \n",
              "  <svg xmlns=\"http://www.w3.org/2000/svg\" height=\"24px\"viewBox=\"0 0 24 24\"\n",
              "       width=\"24px\">\n",
              "    <path d=\"M0 0h24v24H0V0z\" fill=\"none\"/>\n",
              "    <path d=\"M18.56 5.44l.94 2.06.94-2.06 2.06-.94-2.06-.94-.94-2.06-.94 2.06-2.06.94zm-11 1L8.5 8.5l.94-2.06 2.06-.94-2.06-.94L8.5 2.5l-.94 2.06-2.06.94zm10 10l.94 2.06.94-2.06 2.06-.94-2.06-.94-.94-2.06-.94 2.06-2.06.94z\"/><path d=\"M17.41 7.96l-1.37-1.37c-.4-.4-.92-.59-1.43-.59-.52 0-1.04.2-1.43.59L10.3 9.45l-7.72 7.72c-.78.78-.78 2.05 0 2.83L4 21.41c.39.39.9.59 1.41.59.51 0 1.02-.2 1.41-.59l7.78-7.78 2.81-2.81c.8-.78.8-2.07 0-2.86zM5.41 20L4 18.59l7.72-7.72 1.47 1.35L5.41 20z\"/>\n",
              "  </svg>\n",
              "      </button>\n",
              "      \n",
              "  <style>\n",
              "    .colab-df-container {\n",
              "      display:flex;\n",
              "      flex-wrap:wrap;\n",
              "      gap: 12px;\n",
              "    }\n",
              "\n",
              "    .colab-df-convert {\n",
              "      background-color: #E8F0FE;\n",
              "      border: none;\n",
              "      border-radius: 50%;\n",
              "      cursor: pointer;\n",
              "      display: none;\n",
              "      fill: #1967D2;\n",
              "      height: 32px;\n",
              "      padding: 0 0 0 0;\n",
              "      width: 32px;\n",
              "    }\n",
              "\n",
              "    .colab-df-convert:hover {\n",
              "      background-color: #E2EBFA;\n",
              "      box-shadow: 0px 1px 2px rgba(60, 64, 67, 0.3), 0px 1px 3px 1px rgba(60, 64, 67, 0.15);\n",
              "      fill: #174EA6;\n",
              "    }\n",
              "\n",
              "    [theme=dark] .colab-df-convert {\n",
              "      background-color: #3B4455;\n",
              "      fill: #D2E3FC;\n",
              "    }\n",
              "\n",
              "    [theme=dark] .colab-df-convert:hover {\n",
              "      background-color: #434B5C;\n",
              "      box-shadow: 0px 1px 3px 1px rgba(0, 0, 0, 0.15);\n",
              "      filter: drop-shadow(0px 1px 2px rgba(0, 0, 0, 0.3));\n",
              "      fill: #FFFFFF;\n",
              "    }\n",
              "  </style>\n",
              "\n",
              "      <script>\n",
              "        const buttonEl =\n",
              "          document.querySelector('#df-ae1645ad-903b-471d-82fd-a5578e39264c button.colab-df-convert');\n",
              "        buttonEl.style.display =\n",
              "          google.colab.kernel.accessAllowed ? 'block' : 'none';\n",
              "\n",
              "        async function convertToInteractive(key) {\n",
              "          const element = document.querySelector('#df-ae1645ad-903b-471d-82fd-a5578e39264c');\n",
              "          const dataTable =\n",
              "            await google.colab.kernel.invokeFunction('convertToInteractive',\n",
              "                                                     [key], {});\n",
              "          if (!dataTable) return;\n",
              "\n",
              "          const docLinkHtml = 'Like what you see? Visit the ' +\n",
              "            '<a target=\"_blank\" href=https://colab.research.google.com/notebooks/data_table.ipynb>data table notebook</a>'\n",
              "            + ' to learn more about interactive tables.';\n",
              "          element.innerHTML = '';\n",
              "          dataTable['output_type'] = 'display_data';\n",
              "          await google.colab.output.renderOutput(dataTable, element);\n",
              "          const docLink = document.createElement('div');\n",
              "          docLink.innerHTML = docLinkHtml;\n",
              "          element.appendChild(docLink);\n",
              "        }\n",
              "      </script>\n",
              "    </div>\n",
              "  </div>\n",
              "  "
            ]
          },
          "metadata": {},
          "execution_count": 73
        }
      ]
    },
    {
      "cell_type": "code",
      "source": [
        "df_precipitation['time_stamp'] = pd.to_datetime(df_precipitation['dt'], unit='s')\n",
        "df_precipitation['time_stamp'] = df_precipitation['time_stamp'].dt.tz_localize('UTC')\n",
        "df_precipitation['time_stamp'] = df_precipitation['time_stamp'].dt.tz_convert('Asia/Jakarta')"
      ],
      "metadata": {
        "id": "trAvxS6Y1kUg"
      },
      "execution_count": 74,
      "outputs": []
    },
    {
      "cell_type": "code",
      "source": [
        "df_precipitation.head()"
      ],
      "metadata": {
        "colab": {
          "base_uri": "https://localhost:8080/",
          "height": 206
        },
        "id": "qRELQYB61wVO",
        "outputId": "85af3091-d8f6-49be-b4db-38e0adcd06b1"
      },
      "execution_count": 75,
      "outputs": [
        {
          "output_type": "execute_result",
          "data": {
            "text/plain": [
              "           dt  precipitation                time_stamp\n",
              "0  1651076220         2.0505 2022-04-27 23:17:00+07:00\n",
              "1  1651076280         2.0505 2022-04-27 23:18:00+07:00\n",
              "2  1651076340         2.0505 2022-04-27 23:19:00+07:00\n",
              "3  1651076400         2.0505 2022-04-27 23:20:00+07:00\n",
              "4  1651076460         2.0505 2022-04-27 23:21:00+07:00"
            ],
            "text/html": [
              "\n",
              "  <div id=\"df-64cb0d9a-9f61-454e-b9d4-fdc44dc97102\">\n",
              "    <div class=\"colab-df-container\">\n",
              "      <div>\n",
              "<style scoped>\n",
              "    .dataframe tbody tr th:only-of-type {\n",
              "        vertical-align: middle;\n",
              "    }\n",
              "\n",
              "    .dataframe tbody tr th {\n",
              "        vertical-align: top;\n",
              "    }\n",
              "\n",
              "    .dataframe thead th {\n",
              "        text-align: right;\n",
              "    }\n",
              "</style>\n",
              "<table border=\"1\" class=\"dataframe\">\n",
              "  <thead>\n",
              "    <tr style=\"text-align: right;\">\n",
              "      <th></th>\n",
              "      <th>dt</th>\n",
              "      <th>precipitation</th>\n",
              "      <th>time_stamp</th>\n",
              "    </tr>\n",
              "  </thead>\n",
              "  <tbody>\n",
              "    <tr>\n",
              "      <th>0</th>\n",
              "      <td>1651076220</td>\n",
              "      <td>2.0505</td>\n",
              "      <td>2022-04-27 23:17:00+07:00</td>\n",
              "    </tr>\n",
              "    <tr>\n",
              "      <th>1</th>\n",
              "      <td>1651076280</td>\n",
              "      <td>2.0505</td>\n",
              "      <td>2022-04-27 23:18:00+07:00</td>\n",
              "    </tr>\n",
              "    <tr>\n",
              "      <th>2</th>\n",
              "      <td>1651076340</td>\n",
              "      <td>2.0505</td>\n",
              "      <td>2022-04-27 23:19:00+07:00</td>\n",
              "    </tr>\n",
              "    <tr>\n",
              "      <th>3</th>\n",
              "      <td>1651076400</td>\n",
              "      <td>2.0505</td>\n",
              "      <td>2022-04-27 23:20:00+07:00</td>\n",
              "    </tr>\n",
              "    <tr>\n",
              "      <th>4</th>\n",
              "      <td>1651076460</td>\n",
              "      <td>2.0505</td>\n",
              "      <td>2022-04-27 23:21:00+07:00</td>\n",
              "    </tr>\n",
              "  </tbody>\n",
              "</table>\n",
              "</div>\n",
              "      <button class=\"colab-df-convert\" onclick=\"convertToInteractive('df-64cb0d9a-9f61-454e-b9d4-fdc44dc97102')\"\n",
              "              title=\"Convert this dataframe to an interactive table.\"\n",
              "              style=\"display:none;\">\n",
              "        \n",
              "  <svg xmlns=\"http://www.w3.org/2000/svg\" height=\"24px\"viewBox=\"0 0 24 24\"\n",
              "       width=\"24px\">\n",
              "    <path d=\"M0 0h24v24H0V0z\" fill=\"none\"/>\n",
              "    <path d=\"M18.56 5.44l.94 2.06.94-2.06 2.06-.94-2.06-.94-.94-2.06-.94 2.06-2.06.94zm-11 1L8.5 8.5l.94-2.06 2.06-.94-2.06-.94L8.5 2.5l-.94 2.06-2.06.94zm10 10l.94 2.06.94-2.06 2.06-.94-2.06-.94-.94-2.06-.94 2.06-2.06.94z\"/><path d=\"M17.41 7.96l-1.37-1.37c-.4-.4-.92-.59-1.43-.59-.52 0-1.04.2-1.43.59L10.3 9.45l-7.72 7.72c-.78.78-.78 2.05 0 2.83L4 21.41c.39.39.9.59 1.41.59.51 0 1.02-.2 1.41-.59l7.78-7.78 2.81-2.81c.8-.78.8-2.07 0-2.86zM5.41 20L4 18.59l7.72-7.72 1.47 1.35L5.41 20z\"/>\n",
              "  </svg>\n",
              "      </button>\n",
              "      \n",
              "  <style>\n",
              "    .colab-df-container {\n",
              "      display:flex;\n",
              "      flex-wrap:wrap;\n",
              "      gap: 12px;\n",
              "    }\n",
              "\n",
              "    .colab-df-convert {\n",
              "      background-color: #E8F0FE;\n",
              "      border: none;\n",
              "      border-radius: 50%;\n",
              "      cursor: pointer;\n",
              "      display: none;\n",
              "      fill: #1967D2;\n",
              "      height: 32px;\n",
              "      padding: 0 0 0 0;\n",
              "      width: 32px;\n",
              "    }\n",
              "\n",
              "    .colab-df-convert:hover {\n",
              "      background-color: #E2EBFA;\n",
              "      box-shadow: 0px 1px 2px rgba(60, 64, 67, 0.3), 0px 1px 3px 1px rgba(60, 64, 67, 0.15);\n",
              "      fill: #174EA6;\n",
              "    }\n",
              "\n",
              "    [theme=dark] .colab-df-convert {\n",
              "      background-color: #3B4455;\n",
              "      fill: #D2E3FC;\n",
              "    }\n",
              "\n",
              "    [theme=dark] .colab-df-convert:hover {\n",
              "      background-color: #434B5C;\n",
              "      box-shadow: 0px 1px 3px 1px rgba(0, 0, 0, 0.15);\n",
              "      filter: drop-shadow(0px 1px 2px rgba(0, 0, 0, 0.3));\n",
              "      fill: #FFFFFF;\n",
              "    }\n",
              "  </style>\n",
              "\n",
              "      <script>\n",
              "        const buttonEl =\n",
              "          document.querySelector('#df-64cb0d9a-9f61-454e-b9d4-fdc44dc97102 button.colab-df-convert');\n",
              "        buttonEl.style.display =\n",
              "          google.colab.kernel.accessAllowed ? 'block' : 'none';\n",
              "\n",
              "        async function convertToInteractive(key) {\n",
              "          const element = document.querySelector('#df-64cb0d9a-9f61-454e-b9d4-fdc44dc97102');\n",
              "          const dataTable =\n",
              "            await google.colab.kernel.invokeFunction('convertToInteractive',\n",
              "                                                     [key], {});\n",
              "          if (!dataTable) return;\n",
              "\n",
              "          const docLinkHtml = 'Like what you see? Visit the ' +\n",
              "            '<a target=\"_blank\" href=https://colab.research.google.com/notebooks/data_table.ipynb>data table notebook</a>'\n",
              "            + ' to learn more about interactive tables.';\n",
              "          element.innerHTML = '';\n",
              "          dataTable['output_type'] = 'display_data';\n",
              "          await google.colab.output.renderOutput(dataTable, element);\n",
              "          const docLink = document.createElement('div');\n",
              "          docLink.innerHTML = docLinkHtml;\n",
              "          element.appendChild(docLink);\n",
              "        }\n",
              "      </script>\n",
              "    </div>\n",
              "  </div>\n",
              "  "
            ]
          },
          "metadata": {},
          "execution_count": 75
        }
      ]
    },
    {
      "cell_type": "code",
      "source": [
        "df_precipitation.to_csv('precipitation.csv', mode='a', header=False, index=False)"
      ],
      "metadata": {
        "id": "DZa3xqImxrLi"
      },
      "execution_count": 77,
      "outputs": []
    },
    {
      "cell_type": "code",
      "source": [
        ""
      ],
      "metadata": {
        "id": "dwdBly401_kx"
      },
      "execution_count": null,
      "outputs": []
    }
  ]
}