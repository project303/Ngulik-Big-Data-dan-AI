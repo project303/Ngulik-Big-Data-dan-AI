{
  "nbformat": 4,
  "nbformat_minor": 0,
  "metadata": {
    "colab": {
      "name": "Pyspark Dataframe - For Data Processing",
      "provenance": [],
      "collapsed_sections": [
        "VSqTiubIBpoG",
        "8elK3IvmVTew",
        "pzpuNpb8myW3"
      ]
    },
    "kernelspec": {
      "name": "python3",
      "display_name": "Python 3"
    }
  },
  "cells": [
    {
      "cell_type": "markdown",
      "metadata": {
        "id": "VSqTiubIBpoG"
      },
      "source": [
        "# Prepare Environment"
      ]
    },
    {
      "cell_type": "markdown",
      "metadata": {
        "id": "8elK3IvmVTew"
      },
      "source": [
        "##a. Install pyspark package\n",
        "The first step before running spark is to install the ``pyspark`` package, because the package is not included in the default Google Colab setup.\n",
        "This step needs to be done every time we open a new session"
      ]
    },
    {
      "cell_type": "code",
      "metadata": {
        "id": "xyqGzlLOuBpV"
      },
      "source": [
        "!pip install pyspark"
      ],
      "execution_count": null,
      "outputs": []
    },
    {
      "cell_type": "markdown",
      "metadata": {
        "id": "3Ddekh7YVnsI"
      },
      "source": [
        "\n",
        "##b. Create spark session"
      ]
    },
    {
      "cell_type": "code",
      "metadata": {
        "id": "qJDNbI5gti9B"
      },
      "source": [
        "import pyspark\n",
        "from pyspark.sql import SparkSession"
      ],
      "execution_count": null,
      "outputs": []
    },
    {
      "cell_type": "code",
      "metadata": {
        "id": "Hnxed8rpt5Xs"
      },
      "source": [
        "spark = SparkSession.builder.appName('DataFrame Basics').getOrCreate()"
      ],
      "execution_count": null,
      "outputs": []
    },
    {
      "cell_type": "markdown",
      "metadata": {
        "id": "pzpuNpb8myW3"
      },
      "source": [
        "# Explore Data\n",
        "\n",
        "Twitter user dataset"
      ]
    },
    {
      "cell_type": "markdown",
      "source": [
        "| Field | Remarks |\n",
        "| ----- | ------- |\n",
        "| account_id | Unique account ID |\n",
        "| handle | Twitter handle, e.g., [@JonBruner](https://twitter.com/jonbruner) |\n",
        "| name | Full account name, e.g., \"Jon Bruner\" |\n",
        "| description | Long account description, e.g., \"Person who loves revelatory datasets that speak to eternal social characteristics.\" |\n",
        "| url | URL associated with account description |\n",
        "| language | [ISO language code](https://www.loc.gov/standards/iso639-2/php/code_list.php) selected by user |\n",
        "| location | Free-text location provided by user |\n",
        "| account_created_at | Date and time of account creation |\n",
        "| account_created_at_interpolated | See below |\n",
        "| crawled_at | Date and time when account was scraped for inclusion in this dataset |\n",
        "| missing | 0: account exists<br>1: account never existed with this ID<br>2: account closed (by user, or by Twitter for abuse) |\n",
        "| protected | 0: not protected<br>1: protected |\n",
        "| followers_count | Number of Twitter accounts following this account |\n",
        "| following_count | Number of Twitter accounts that this account follows |\n",
        "| statuses_count | Number of public posts created by this account |\n",
        "| listed_count | Number of lists on which this account appears |\n",
        "| last_post_id | Unique ID of this account's most recent post, as of `crawled_at` |\n",
        "| last_post_text | Text of this account's most recent post |\n",
        "| last_post_lat | Latitude, if available, for this account's most recent post |\n",
        "| last_post_lon | Longitude, if available, for this account's most recent post |\n",
        "| last_post_place_id | [Twitter place ID](https://dev.twitter.com/overview/api/places), if available, for this account's most recent post |\n",
        "| last_post_created_at | Date and time of this account's most recent post |\n",
        "| time_since_last_post | Convenience variable: the difference in hours between `crawled_at` and `last_post_created_at` |"
      ],
      "metadata": {
        "id": "4ii3OsOgPAm0"
      }
    },
    {
      "cell_type": "code",
      "metadata": {
        "id": "-qO8foHlWexn"
      },
      "source": [
        "!wget https://www.dropbox.com/s/y83nb7kawnnfqky/twitter-user-5k.csv"
      ],
      "execution_count": null,
      "outputs": []
    },
    {
      "cell_type": "code",
      "source": [
        "! head twitter-user-5k.csv"
      ],
      "metadata": {
        "id": "KPOzHITT7_PI"
      },
      "execution_count": null,
      "outputs": []
    },
    {
      "cell_type": "code",
      "metadata": {
        "id": "4tQqD2VYm7ZR"
      },
      "source": [
        "df_twitter_user = spark.read.csv(\"twitter-user-5k.csv\",header=True,inferSchema=True)"
      ],
      "execution_count": null,
      "outputs": []
    },
    {
      "cell_type": "markdown",
      "metadata": {
        "id": "Vbwg-RH5m1JG"
      },
      "source": [
        "###2.1 Taking a peek at data"
      ]
    },
    {
      "cell_type": "markdown",
      "metadata": {
        "id": "oTGwnupfKBMU"
      },
      "source": [
        "To see some of the records from dataframe, we can use ``show(n)`` to show the first n"
      ]
    },
    {
      "cell_type": "code",
      "metadata": {
        "id": "y-ccShKgnGBw"
      },
      "source": [
        "df_twitter_user.show(5)"
      ],
      "execution_count": null,
      "outputs": []
    },
    {
      "cell_type": "markdown",
      "metadata": {
        "id": "99-M00F5nKdO"
      },
      "source": [
        "Showing Schema\n",
        "\n"
      ]
    },
    {
      "cell_type": "code",
      "metadata": {
        "id": "WOlh-X3nnL62"
      },
      "source": [
        "df_twitter_user.printSchema()"
      ],
      "execution_count": null,
      "outputs": []
    },
    {
      "cell_type": "markdown",
      "metadata": {
        "id": "OpPxH6tlnY5R"
      },
      "source": [
        "Showing statistics summary\n",
        "\n",
        "We can show the summary statistic of numeric columns with ``describe``. If we don't specify the column name, it will calculate and show all column's summary."
      ]
    },
    {
      "cell_type": "code",
      "metadata": {
        "id": "S_WjXzh-ncSu"
      },
      "source": [
        "df_twitter_user.describe().show()"
      ],
      "execution_count": null,
      "outputs": []
    },
    {
      "cell_type": "markdown",
      "metadata": {
        "id": "WWykQ_0KnpLT"
      },
      "source": [
        "Summary statistics for selected column"
      ]
    },
    {
      "cell_type": "code",
      "metadata": {
        "id": "feq2JOTOn0dq"
      },
      "source": [
        "df_twitter_user.describe(\"account_id\").show()"
      ],
      "execution_count": null,
      "outputs": []
    },
    {
      "cell_type": "code",
      "source": [
        "df_twitter_user.count()"
      ],
      "metadata": {
        "id": "gNakSlVMAaF9"
      },
      "execution_count": null,
      "outputs": []
    },
    {
      "cell_type": "markdown",
      "metadata": {
        "id": "DYDiKb4Rn_0c"
      },
      "source": [
        "###2.2 Filtering\n",
        "\n"
      ]
    },
    {
      "cell_type": "markdown",
      "metadata": {
        "id": "-om-OrZquQQo"
      },
      "source": [
        "####Select columns"
      ]
    },
    {
      "cell_type": "code",
      "metadata": {
        "id": "QdQzWlmvoJXv"
      },
      "source": [
        "df_twitter_user.select(\"handle\").show()"
      ],
      "execution_count": null,
      "outputs": []
    },
    {
      "cell_type": "markdown",
      "metadata": {
        "id": "a1x_c-b9pcWc"
      },
      "source": [
        "Select multiple column"
      ]
    },
    {
      "cell_type": "code",
      "metadata": {
        "id": "SQbyEyDCpekb"
      },
      "source": [
        "df_twitter_user.select(\"account_id\",\"handle\", \"name\").show()"
      ],
      "execution_count": null,
      "outputs": []
    },
    {
      "cell_type": "markdown",
      "metadata": {
        "id": "ghJrZSCpoo7C"
      },
      "source": [
        "####Select records"
      ]
    },
    {
      "cell_type": "code",
      "metadata": {
        "id": "xwTmG_QyoQHM"
      },
      "source": [
        "df_twitter_user.filter(df_twitter_user.account_id > 50000).show()"
      ],
      "execution_count": null,
      "outputs": []
    },
    {
      "cell_type": "markdown",
      "metadata": {
        "id": "8c4790g0r7GK"
      },
      "source": [
        "String condition"
      ]
    },
    {
      "cell_type": "code",
      "metadata": {
        "id": "8VL5e4DFofWH"
      },
      "source": [
        "df_twitter_user.filter(df_twitter_user.name.contains('John')).show()"
      ],
      "execution_count": null,
      "outputs": []
    },
    {
      "cell_type": "code",
      "source": [
        "df_twitter_user.filter(df_twitter_user.name.startswith('J')).show()"
      ],
      "metadata": {
        "id": "JzP5_PkG_cvP"
      },
      "execution_count": null,
      "outputs": []
    },
    {
      "cell_type": "code",
      "source": [
        "df_twitter_user.filter(df_twitter_user.name.endswith('r')).show()"
      ],
      "metadata": {
        "id": "NVt9E7bb_r-1"
      },
      "execution_count": null,
      "outputs": []
    },
    {
      "cell_type": "code",
      "source": [
        "df_twitter_user.filter( df_twitter_user.name.isNotNull()).show()"
      ],
      "metadata": {
        "id": "eQOGFd_v_COv"
      },
      "execution_count": null,
      "outputs": []
    },
    {
      "cell_type": "markdown",
      "metadata": {
        "id": "U_zzv1_aYXBe"
      },
      "source": [
        "Filter with multiple condition"
      ]
    },
    {
      "cell_type": "code",
      "metadata": {
        "id": "5dAZ7aDoYalg"
      },
      "source": [
        "df_twitter_user.filter((df_twitter_user.language.isin('id','en'))\\\n",
        "                        & (df_twitter_user.followers_count > 100)).show()"
      ],
      "execution_count": null,
      "outputs": []
    },
    {
      "cell_type": "code",
      "source": [
        "from pyspark.sql.functions import col\n",
        "df_twitter_user.filter( \"CAST(account_id AS INT) IS NOT NULL\"  )\\\n",
        "               .show(5)"
      ],
      "metadata": {
        "id": "OU80OsbQMq-Y"
      },
      "execution_count": null,
      "outputs": []
    },
    {
      "cell_type": "code",
      "source": [
        "df_user = df_twitter_user.filter( \"CAST(account_id AS INT) IS NOT NULL\"  )"
      ],
      "metadata": {
        "id": "HhcazeQkNY5W"
      },
      "execution_count": null,
      "outputs": []
    },
    {
      "cell_type": "code",
      "source": [
        "df_user.show(5)"
      ],
      "metadata": {
        "id": "jDquidxXNd_K"
      },
      "execution_count": null,
      "outputs": []
    },
    {
      "cell_type": "markdown",
      "metadata": {
        "id": "rcLgEXz-PlvN"
      },
      "source": [
        "###2.3 Aggregation"
      ]
    },
    {
      "cell_type": "markdown",
      "metadata": {
        "id": "fX7rzHbOQRyv"
      },
      "source": [
        "Number of columns"
      ]
    },
    {
      "cell_type": "code",
      "metadata": {
        "id": "CbUMZTJ8QSYF"
      },
      "source": [
        "len(df_user.columns)"
      ],
      "execution_count": null,
      "outputs": []
    },
    {
      "cell_type": "markdown",
      "metadata": {
        "id": "GkyOlEULP_g-"
      },
      "source": [
        "Total records count"
      ]
    },
    {
      "cell_type": "code",
      "metadata": {
        "id": "YtSRF5xFQBmc"
      },
      "source": [
        "df_user.count()"
      ],
      "execution_count": null,
      "outputs": []
    },
    {
      "cell_type": "markdown",
      "metadata": {
        "id": "DZb03bk5QKwo"
      },
      "source": [
        "####Distinct value"
      ]
    },
    {
      "cell_type": "code",
      "metadata": {
        "id": "sAIvwxbpQbj-"
      },
      "source": [
        "df_user.distinct().count()"
      ],
      "execution_count": null,
      "outputs": []
    },
    {
      "cell_type": "markdown",
      "metadata": {
        "id": "u_2VKvj1QnVc"
      },
      "source": [
        "Distinct value of selected column"
      ]
    },
    {
      "cell_type": "code",
      "metadata": {
        "id": "EjlP69w-QqaV"
      },
      "source": [
        "df_user.select('language').distinct().show()"
      ],
      "execution_count": null,
      "outputs": []
    },
    {
      "cell_type": "code",
      "source": [
        "df_user.select('language', 'missing').distinct().show()"
      ],
      "metadata": {
        "id": "ez9i-SCxNxc3"
      },
      "execution_count": null,
      "outputs": []
    },
    {
      "cell_type": "markdown",
      "metadata": {
        "id": "R0kFRECNRqBL"
      },
      "source": [
        "####Grouping by column"
      ]
    },
    {
      "cell_type": "code",
      "metadata": {
        "id": "B9aXQsIWFt3O"
      },
      "source": [
        "df_user.groupBy(\"language\").count().show()\n",
        "#df_twitter_user.groupBy(\"timezone\").max('density').show()"
      ],
      "execution_count": null,
      "outputs": []
    },
    {
      "cell_type": "code",
      "source": [
        "df_user.groupBy(\"language\", 'missing').count().show()"
      ],
      "metadata": {
        "id": "jdpbZ4iOOcVq"
      },
      "execution_count": null,
      "outputs": []
    },
    {
      "cell_type": "markdown",
      "metadata": {
        "id": "-Kr85hEQJl8a"
      },
      "source": [
        "Another way to compute mean min and max"
      ]
    },
    {
      "cell_type": "code",
      "metadata": {
        "id": "_d2I29cpHV_Q"
      },
      "source": [
        "from pyspark.sql.functions import col, sum, avg, max, min, count\n",
        "\n",
        "df_user.groupBy(\"language\") \\\n",
        "       .agg(count(\"*\").alias(\"num_rec\"), \\\n",
        "            max(\"missing\").alias(\"max_missing\"), \\\n",
        "            min(\"missing\").alias(\"min_missing\"), \\\n",
        "            ) \\\n",
        "       .show()"
      ],
      "execution_count": null,
      "outputs": []
    },
    {
      "cell_type": "code",
      "source": [
        ""
      ],
      "metadata": {
        "id": "D5SyKlK3TIjm"
      },
      "execution_count": null,
      "outputs": []
    },
    {
      "cell_type": "markdown",
      "metadata": {
        "id": "Cci7rwBA0XiD"
      },
      "source": [
        "####More aggregation options\n",
        "\n",
        "Order By"
      ]
    },
    {
      "cell_type": "code",
      "metadata": {
        "id": "4LMTfZnTiZMI"
      },
      "source": [
        "df_user.groupBy(\"language\") \\\n",
        "       .agg(count(\"*\").alias(\"num_rec\"), \\\n",
        "            max(\"missing\").alias(\"max_missing\"), \\\n",
        "            min(\"missing\").alias(\"min_missing\"), \\\n",
        "            ) \\\n",
        "       .orderBy(\"num_rec\", ascending=False) \\\n",
        "       .show()"
      ],
      "execution_count": null,
      "outputs": []
    },
    {
      "cell_type": "markdown",
      "metadata": {
        "id": "JD-e2D1X0lKq"
      },
      "source": [
        "Aggregation with condition"
      ]
    },
    {
      "cell_type": "code",
      "metadata": {
        "id": "RBy0oEPGhQAL"
      },
      "source": [
        "df_user.groupBy(\"language\") \\\n",
        "       .agg(count(\"*\").alias(\"num_rec\"), \\\n",
        "            max(\"missing\").alias(\"max_missing\"), \\\n",
        "            min(\"missing\").alias(\"min_missing\"), \\\n",
        "            ) \\\n",
        "       .where(col(\"num_rec\") > 10) \\\n",
        "       .show()"
      ],
      "execution_count": null,
      "outputs": []
    },
    {
      "cell_type": "code",
      "metadata": {
        "id": "tGrlD5ashACP"
      },
      "source": [
        ""
      ],
      "execution_count": null,
      "outputs": []
    }
  ]
}