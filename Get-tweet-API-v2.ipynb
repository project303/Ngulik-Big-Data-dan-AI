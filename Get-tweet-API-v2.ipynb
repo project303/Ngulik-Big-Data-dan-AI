{
 "cells": [
  {
   "cell_type": "code",
   "execution_count": 1,
   "id": "cd35ca8e",
   "metadata": {},
   "outputs": [],
   "source": [
    "import tweepy"
   ]
  },
  {
   "cell_type": "code",
   "execution_count": 2,
   "id": "aa920e91",
   "metadata": {},
   "outputs": [
    {
     "name": "stdout",
     "output_type": "stream",
     "text": [
      "1287421077077942272\n",
      "Dari tugas aksi kita bisa membantu usaha yang sepi karena covid\n",
      "\n",
      "#VOKASIIMPACT #MPKMB59SVIPB #IPBDIGDAYA #VOKASIJUARA #TheGlimpseStoryofGatamalaAgrinawa https://t.co/9eFYkgGzGM\n",
      "in\n",
      "Twitter for iPhone\n",
      "71436318\n",
      "Update Jumlah Kasus Covid-19 di Indonesia Rabu 10 Agustus 2022: 5.926 Positif https://t.co/GTEgGJYfZ1 https://t.co/yjjnz5vf6X\n",
      "in\n",
      "dlvr.it\n",
      "3672722779\n",
      "Alhamdulillah Setelah Pandemi Covid -19 Indonesia Mulai Membaik ekonomi Mulai Pulih\n",
      "\n",
      "@jokowi Gas Pol Pemulihan Ekonomi https://t.co/nZCIsUA4nl\n",
      "in\n",
      "Twitter for Android\n",
      "1405352174532497419\n",
      "@dsuperboy Adanya pandemi Covid-19 mengakibatkan sejumlah sektor perekonomian terguncang, bahkan hingga kepada sektor pariwisata. Yuk bangkitkan kembali semangatmu dan telusuri kuliner nusantara!\n",
      "\n",
      "Atau klik link regis: https://t.co/493n4tweAP https://t.co/MNY35qLHBR\n",
      "in\n",
      "Twitter for Android\n",
      "1405352174532497419\n",
      "@sbmptnfess Adanya pandemi Covid-19 mengakibatkan sejumlah sektor perekonomian terguncang, bahkan hingga kepada sektor pariwisata. Yuk bangkitkan kembali semangatmu dan telusuri kuliner nusantara!\n",
      "\n",
      "Atau klik link regis: https://t.co/493n4tweAP https://t.co/udskL4q8Qf\n",
      "in\n",
      "Twitter for Android\n",
      "1405352174532497419\n",
      "@schfess Adanya pandemi Covid-19 mengakibatkan sejumlah sektor perekonomian terguncang, bahkan hingga kepada sektor pariwisata. Yuk bangkitkan kembali semangatmu dan telusuri kuliner nusantara!\n",
      "\n",
      "Atau klik link regis: https://t.co/493n4tweAP https://t.co/ksbo5vvVhG\n",
      "in\n",
      "Twitter for Android\n",
      "1405352174532497419\n",
      "@bayu_joo Adanya pandemi Covid-19 mengakibatkan sejumlah sektor perekonomian terguncang, bahkan hingga kepada sektor pariwisata. Yuk bangkitkan kembali semangatmu dan telusuri kuliner nusantara!\n",
      "\n",
      "Atau klik link regis: https://t.co/493n4tweAP https://t.co/bXNe6makyI\n",
      "in\n",
      "Twitter for Android\n",
      "1405352174532497419\n",
      "@garandra Adanya pandemi Covid-19 mengakibatkan sejumlah sektor perekonomian terguncang, bahkan hingga kepada sektor pariwisata. Yuk bangkitkan kembali semangatmu dan telusuri kuliner nusantara!\n",
      "\n",
      "Atau klik link regis: https://t.co/493n4tweAP https://t.co/mpnTFSz5uk\n",
      "in\n",
      "Twitter for Android\n",
      "540625251\n",
      "Hallo Kawan JM\n",
      "\n",
      "Patuhi protokol kesehatan untuk memutus penyebaran Covid-19, buat Kawan JM yang beraktivitas dimanapun dan kapanpun jangan lupa untuk 6M ya!\n",
      "\n",
      "Yuk bersama-sama kita cegah penyebaran Covid-19! https://t.co/Gk6DpvHa61\n",
      "in\n",
      "Twitter Web App\n",
      "1405352174532497419\n",
      "@sbmptnfess Adanya pandemi Covid-19 mengakibatkan sejumlah sektor perekonomian terguncang, bahkan hingga kepada sektor pariwisata. Yuk bangkitkan kembali semangatmu dan telusuri kuliner nusantara!\n",
      "\n",
      "Atau klik link regis: https://t.co/493n4tweAP https://t.co/lYmuZWQjRr\n",
      "in\n",
      "Twitter for Android\n"
     ]
    }
   ],
   "source": [
    "#diubah sesuai account masing-masing\n",
    "client = tweepy.Client(bearer_token='AAAAAAAAAAAAAAAAAAAAAFvDWgEAAAAAl5xKoO8sBHI7QKQZvEFjm0vRYFQ%3DA1X3Z8kVSPRVJWmvPotsnOqwpQS59Zyo21kp2mQiq4zgSw4VBY')\n",
    "\n",
    "#query diubah sesuai kebutuhan\n",
    "query = 'covid -is:retweet has:media lang:id'\n",
    "\n",
    "#komplek query\n",
    "#query = '(#NewYearsResolution OR #NewYearsResolutions OR #NewYearResolution OR #NewYearResolutions OR #NYResolution OR #NYResolutions OR #NYResolution2022 OR #NYResolutions2022 OR #NewYearsResolution2022 OR #NewYearResolution2022 OR #NewYearsResolutions2022 OR \"New Year’s Resolution\" OR \"New Years Resolution\" OR \"New Year’s Resolutions\" OR \"New Years Resolutions\") lang:id'\n",
    "\n",
    "response = client.search_recent_tweets(\n",
    "    query,\n",
    "    max_results = 10,  #diambil 10 tweet aj, diubah nilai maksimal aj\n",
    "    tweet_fields = ['author_id','created_at','text','source','lang','geo'],\n",
    "    user_fields = ['name','username','location','verified'],\n",
    "    place_fields = ['country','country_code'],\n",
    "    media_fields = ['duration_ms', 'height', 'media_key', 'preview_image_url', 'public_metrics', 'type', 'url', 'width'],\n",
    "    expansions = ['geo.place_id', 'author_id', 'attachments.media_keys']\n",
    ")\n",
    "\n",
    "for tweet in response.data:\n",
    "    print(tweet.author_id)      # print the author id of the tweet\n",
    "    print(tweet.text)           # print the text\n",
    "    print(tweet.data['lang'])   # print the language (PL, since we're filtering by it)\n",
    "    print(tweet.data['source']) # what did the user use to publish the tweet?"
   ]
  },
  {
   "cell_type": "code",
   "execution_count": 3,
   "id": "023175a4",
   "metadata": {},
   "outputs": [
    {
     "name": "stdout",
     "output_type": "stream",
     "text": [
      "Response(data=[<Tweet id=1557337722188369920 text='Dari tugas aksi kita bisa membantu usaha yang sepi karena covid\\n\\n#VOKASIIMPACT #MPKMB59SVIPB #IPBDIGDAYA #VOKASIJUARA #TheGlimpseStoryofGatamalaAgrinawa https://t.co/9eFYkgGzGM'>, <Tweet id=1557336986221809664 text='Update Jumlah Kasus Covid-19 di Indonesia Rabu 10 Agustus 2022: 5.926 Positif https://t.co/GTEgGJYfZ1 https://t.co/yjjnz5vf6X'>, <Tweet id=1557336726661926913 text='Alhamdulillah Setelah Pandemi Covid -19 Indonesia Mulai Membaik ekonomi Mulai Pulih\\n\\n@jokowi Gas Pol Pemulihan Ekonomi https://t.co/nZCIsUA4nl'>, <Tweet id=1557336460180594690 text='@dsuperboy Adanya pandemi Covid-19 mengakibatkan sejumlah sektor perekonomian terguncang, bahkan hingga kepada sektor pariwisata. Yuk bangkitkan kembali semangatmu dan telusuri kuliner nusantara!\\n\\nAtau klik link regis: https://t.co/493n4tweAP https://t.co/MNY35qLHBR'>, <Tweet id=1557336403490459651 text='@sbmptnfess Adanya pandemi Covid-19 mengakibatkan sejumlah sektor perekonomian terguncang, bahkan hingga kepada sektor pariwisata. Yuk bangkitkan kembali semangatmu dan telusuri kuliner nusantara!\\n\\nAtau klik link regis: https://t.co/493n4tweAP https://t.co/udskL4q8Qf'>, <Tweet id=1557336368568709121 text='@schfess Adanya pandemi Covid-19 mengakibatkan sejumlah sektor perekonomian terguncang, bahkan hingga kepada sektor pariwisata. Yuk bangkitkan kembali semangatmu dan telusuri kuliner nusantara!\\n\\nAtau klik link regis: https://t.co/493n4tweAP https://t.co/ksbo5vvVhG'>, <Tweet id=1557336327690919937 text='@bayu_joo Adanya pandemi Covid-19 mengakibatkan sejumlah sektor perekonomian terguncang, bahkan hingga kepada sektor pariwisata. Yuk bangkitkan kembali semangatmu dan telusuri kuliner nusantara!\\n\\nAtau klik link regis: https://t.co/493n4tweAP https://t.co/bXNe6makyI'>, <Tweet id=1557336256102559744 text='@garandra Adanya pandemi Covid-19 mengakibatkan sejumlah sektor perekonomian terguncang, bahkan hingga kepada sektor pariwisata. Yuk bangkitkan kembali semangatmu dan telusuri kuliner nusantara!\\n\\nAtau klik link regis: https://t.co/493n4tweAP https://t.co/mpnTFSz5uk'>, <Tweet id=1557336253989023749 text='Hallo Kawan JM\\n\\nPatuhi protokol kesehatan untuk memutus penyebaran Covid-19, buat Kawan JM yang beraktivitas dimanapun dan kapanpun jangan lupa untuk 6M ya!\\n\\nYuk bersama-sama kita cegah penyebaran Covid-19! https://t.co/Gk6DpvHa61'>, <Tweet id=1557336209394786304 text='@sbmptnfess Adanya pandemi Covid-19 mengakibatkan sejumlah sektor perekonomian terguncang, bahkan hingga kepada sektor pariwisata. Yuk bangkitkan kembali semangatmu dan telusuri kuliner nusantara!\\n\\nAtau klik link regis: https://t.co/493n4tweAP https://t.co/lYmuZWQjRr'>], includes={'media': [<Media media_key=3_1557337714793807872 type=photo>, <Media media_key=3_1557336984065953792 type=photo>, <Media media_key=3_1557336716901744640 type=photo>, <Media media_key=3_1557336454191124481 type=photo>, <Media media_key=3_1557336397807116288 type=photo>, <Media media_key=3_1557336363095060481 type=photo>, <Media media_key=3_1557336321852448768 type=photo>, <Media media_key=3_1557336250155012096 type=photo>, <Media media_key=3_1557336232061210625 type=photo>, <Media media_key=3_1557336232237355008 type=photo>, <Media media_key=3_1557336203338297345 type=photo>], 'users': [<User id=1287421077077942272 name=dwiamelia username=tomonamel>, <User id=71436318 name=KOMPAS TV username=KompasTV>, <User id=3672722779 name=mangib_com username=mang_ib>, <User id=1405352174532497419 name=EunikaJustine username=EunikaJustine>, <User id=540625251 name=PT. JASAMARGA username=PTJASAMARGA>]}, errors=[], meta={'newest_id': '1557337722188369920', 'oldest_id': '1557336209394786304', 'result_count': 10, 'next_token': 'b26v89c19zqg8o3fpz5n2c38vrk9bzjvp1xzphzbksakd'})\n"
     ]
    }
   ],
   "source": [
    "print(response)"
   ]
  },
  {
   "cell_type": "code",
   "execution_count": 4,
   "id": "4a356e25",
   "metadata": {},
   "outputs": [
    {
     "name": "stdout",
     "output_type": "stream",
     "text": [
      "[<Tweet id=1557337722188369920 text='Dari tugas aksi kita bisa membantu usaha yang sepi karena covid\\n\\n#VOKASIIMPACT #MPKMB59SVIPB #IPBDIGDAYA #VOKASIJUARA #TheGlimpseStoryofGatamalaAgrinawa https://t.co/9eFYkgGzGM'>, <Tweet id=1557336986221809664 text='Update Jumlah Kasus Covid-19 di Indonesia Rabu 10 Agustus 2022: 5.926 Positif https://t.co/GTEgGJYfZ1 https://t.co/yjjnz5vf6X'>, <Tweet id=1557336726661926913 text='Alhamdulillah Setelah Pandemi Covid -19 Indonesia Mulai Membaik ekonomi Mulai Pulih\\n\\n@jokowi Gas Pol Pemulihan Ekonomi https://t.co/nZCIsUA4nl'>, <Tweet id=1557336460180594690 text='@dsuperboy Adanya pandemi Covid-19 mengakibatkan sejumlah sektor perekonomian terguncang, bahkan hingga kepada sektor pariwisata. Yuk bangkitkan kembali semangatmu dan telusuri kuliner nusantara!\\n\\nAtau klik link regis: https://t.co/493n4tweAP https://t.co/MNY35qLHBR'>, <Tweet id=1557336403490459651 text='@sbmptnfess Adanya pandemi Covid-19 mengakibatkan sejumlah sektor perekonomian terguncang, bahkan hingga kepada sektor pariwisata. Yuk bangkitkan kembali semangatmu dan telusuri kuliner nusantara!\\n\\nAtau klik link regis: https://t.co/493n4tweAP https://t.co/udskL4q8Qf'>, <Tweet id=1557336368568709121 text='@schfess Adanya pandemi Covid-19 mengakibatkan sejumlah sektor perekonomian terguncang, bahkan hingga kepada sektor pariwisata. Yuk bangkitkan kembali semangatmu dan telusuri kuliner nusantara!\\n\\nAtau klik link regis: https://t.co/493n4tweAP https://t.co/ksbo5vvVhG'>, <Tweet id=1557336327690919937 text='@bayu_joo Adanya pandemi Covid-19 mengakibatkan sejumlah sektor perekonomian terguncang, bahkan hingga kepada sektor pariwisata. Yuk bangkitkan kembali semangatmu dan telusuri kuliner nusantara!\\n\\nAtau klik link regis: https://t.co/493n4tweAP https://t.co/bXNe6makyI'>, <Tweet id=1557336256102559744 text='@garandra Adanya pandemi Covid-19 mengakibatkan sejumlah sektor perekonomian terguncang, bahkan hingga kepada sektor pariwisata. Yuk bangkitkan kembali semangatmu dan telusuri kuliner nusantara!\\n\\nAtau klik link regis: https://t.co/493n4tweAP https://t.co/mpnTFSz5uk'>, <Tweet id=1557336253989023749 text='Hallo Kawan JM\\n\\nPatuhi protokol kesehatan untuk memutus penyebaran Covid-19, buat Kawan JM yang beraktivitas dimanapun dan kapanpun jangan lupa untuk 6M ya!\\n\\nYuk bersama-sama kita cegah penyebaran Covid-19! https://t.co/Gk6DpvHa61'>, <Tweet id=1557336209394786304 text='@sbmptnfess Adanya pandemi Covid-19 mengakibatkan sejumlah sektor perekonomian terguncang, bahkan hingga kepada sektor pariwisata. Yuk bangkitkan kembali semangatmu dan telusuri kuliner nusantara!\\n\\nAtau klik link regis: https://t.co/493n4tweAP https://t.co/lYmuZWQjRr'>]\n"
     ]
    }
   ],
   "source": [
    "print(response.data)"
   ]
  },
  {
   "cell_type": "code",
   "execution_count": 6,
   "id": "b92e585d",
   "metadata": {},
   "outputs": [
    {
     "name": "stdout",
     "output_type": "stream",
     "text": [
      "{'media': [<Media media_key=3_1557337714793807872 type=photo>, <Media media_key=3_1557336984065953792 type=photo>, <Media media_key=3_1557336716901744640 type=photo>, <Media media_key=3_1557336454191124481 type=photo>, <Media media_key=3_1557336397807116288 type=photo>, <Media media_key=3_1557336363095060481 type=photo>, <Media media_key=3_1557336321852448768 type=photo>, <Media media_key=3_1557336250155012096 type=photo>, <Media media_key=3_1557336232061210625 type=photo>, <Media media_key=3_1557336232237355008 type=photo>, <Media media_key=3_1557336203338297345 type=photo>], 'users': [<User id=1287421077077942272 name=dwiamelia username=tomonamel>, <User id=71436318 name=KOMPAS TV username=KompasTV>, <User id=3672722779 name=mangib_com username=mang_ib>, <User id=1405352174532497419 name=EunikaJustine username=EunikaJustine>, <User id=540625251 name=PT. JASAMARGA username=PTJASAMARGA>]}\n"
     ]
    }
   ],
   "source": [
    "print(response.includes)"
   ]
  },
  {
   "cell_type": "code",
   "execution_count": null,
   "id": "2ced223f",
   "metadata": {},
   "outputs": [],
   "source": [
    "#data-data diatas sudah berbentuk JSON"
   ]
  }
 ],
 "metadata": {
  "kernelspec": {
   "display_name": "Python 3 (ipykernel)",
   "language": "python",
   "name": "python3"
  },
  "language_info": {
   "codemirror_mode": {
    "name": "ipython",
    "version": 3
   },
   "file_extension": ".py",
   "mimetype": "text/x-python",
   "name": "python",
   "nbconvert_exporter": "python",
   "pygments_lexer": "ipython3",
   "version": "3.7.13"
  }
 },
 "nbformat": 4,
 "nbformat_minor": 5
}
